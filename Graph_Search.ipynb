{
  "nbformat": 4,
  "nbformat_minor": 0,
  "metadata": {
    "colab": {
      "name": "Problem2.ipynb",
      "provenance": [],
      "collapsed_sections": []
    },
    "kernelspec": {
      "name": "python3",
      "display_name": "Python 3"
    }
  },
  "cells": [
    {
      "cell_type": "code",
      "metadata": {
        "id": "q1rdA_kB6Gfa"
      },
      "source": [
        "# For a weighted graph like the one in this problem, Djikstra's algorithm\n",
        "# should be used to find the shortest (lowest cost) path as it takes into\n",
        "# account the weights, whereas a simple DFS does not\n",
        "\n",
        "import networkx as nx"
      ],
      "execution_count": null,
      "outputs": []
    },
    {
      "cell_type": "code",
      "metadata": {
        "colab": {
          "base_uri": "https://localhost:8080/"
        },
        "id": "NdStt5pI7Rzs",
        "outputId": "88813c5a-3aed-44e8-d788-4a48d97fc7d1"
      },
      "source": [
        "# Build the graph (must be DiGraph to be directed)\n",
        "D = nx.DiGraph()\n",
        "D.add_nodes_from(\"ABCDEF\")\n",
        "D.add_weighted_edges_from([('A','B', 6), ('A','C', 13), \n",
        "                           ('B','D', 9), ('B','E', 4), \n",
        "                           ('C','B', 1), ('C','D', 1), ('C','E', 5), \n",
        "                           ('D','B', 2), ('D','E', 7), ('D','F', 8),\n",
        "                           ('E','C', 2), ('E','F', 12)])\n",
        "\n",
        "# Dijkstra's Algorithm\n",
        "print('Dijkstra\\'s Algorithm')\n",
        "distance,path = nx.single_source_dijkstra(D,'A','F',weight='weight')\n",
        "print('\\nShortest path from A to F:\\n')\n",
        "print(path)\n",
        "print('\\nDistance from A to F:\\n')\n",
        "print(distance)"
      ],
      "execution_count": null,
      "outputs": [
        {
          "output_type": "stream",
          "text": [
            "Dijkstra's Algorithm\n",
            "\n",
            "Shortest path from A to F:\n",
            "\n",
            "['A', 'B', 'E', 'C', 'D', 'F']\n",
            "\n",
            "Distance from A to F:\n",
            "\n",
            "21\n"
          ],
          "name": "stdout"
        }
      ]
    }
  ]
}